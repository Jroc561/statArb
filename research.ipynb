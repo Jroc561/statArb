{
 "metadata": {
  "language_info": {
   "codemirror_mode": {
    "name": "ipython",
    "version": 3
   },
   "file_extension": ".py",
   "mimetype": "text/x-python",
   "name": "python",
   "nbconvert_exporter": "python",
   "pygments_lexer": "ipython3",
   "version": "3.7.9-final"
  },
  "orig_nbformat": 2,
  "kernelspec": {
   "name": "python3",
   "display_name": "Python 3.7.9 64-bit ('Portfolio-Tracker': pipenv)",
   "metadata": {
    "interpreter": {
     "hash": "0600588c3b5f4418cbe7b5ebc6825b479f3bc010269d8b60d75058cdd010adfe"
    }
   }
  }
 },
 "nbformat": 4,
 "nbformat_minor": 2,
 "cells": [
  {
   "cell_type": "code",
   "execution_count": 1,
   "metadata": {},
   "outputs": [],
   "source": [
    "import pandas as pd\n",
    "import numpy as np\n",
    "import matplotlib.pyplot as plt\n",
    "from os import getenv\n",
    "from binance.client import Client\n",
    "from binance.websockets import BinanceSocketManager\n",
    "from twisted.internet import reactor"
   ]
  },
  {
   "cell_type": "code",
   "execution_count": null,
   "metadata": {},
   "outputs": [],
   "source": [
    "# Statistical Arbitrage - Pair Trading Strategy"
   ]
  },
  {
   "cell_type": "code",
   "execution_count": 2,
   "metadata": {},
   "outputs": [],
   "source": [
    "# client login to binance.us\n",
    "client = Client(getenv('binance_api'), getenv('binance_secret'))"
   ]
  },
  {
   "cell_type": "code",
   "execution_count": 6,
   "metadata": {},
   "outputs": [
    {
     "output_type": "execute_result",
     "data": {
      "text/plain": [
       "1502928000000"
      ]
     },
     "metadata": {},
     "execution_count": 6
    }
   ],
   "source": [
    "# valid intervals - 1m, 3m, 5m, 15m, 30m, 1h, 2h, 4h, 6h, 8h, 12h, 1d, 3d, 1w, 1M\n",
    "# get timestamp of earliest date data is available\n",
    "ticker = 'BTCUSDT'\n",
    "interval = '1d'\n",
    "timestamp = client._get_earliest_valid_timestamp(ticker, interval)"
   ]
  },
  {
   "cell_type": "code",
   "execution_count": 7,
   "metadata": {},
   "outputs": [],
   "source": [
    "# request historical candle (or klines) data\n",
    "bars = client.get_historical_klines(ticker, interval, timestamp)"
   ]
  },
  {
   "cell_type": "code",
   "execution_count": 11,
   "metadata": {},
   "outputs": [],
   "source": [
    "# delete unwanted data - just keep date, open, high, low, close\n",
    "for line in bars:\n",
    "    del line[5:]"
   ]
  },
  {
   "cell_type": "code",
   "execution_count": 14,
   "metadata": {},
   "outputs": [
    {
     "output_type": "stream",
     "name": "stdout",
     "text": [
      "                open      high       low     close\ndate                                              \n2021-02-07  39181.01  39700.00  37351.00  38795.69\n2021-02-08  38795.69  46794.45  37988.89  46374.87\n2021-02-09  46374.86  48142.19  44961.09  46420.42\n2021-02-10  46420.42  47310.00  43727.00  44807.58\n2021-02-11  44807.58  48399.00  43994.02  47500.00\n"
     ]
    }
   ],
   "source": [
    "btc_df = pd.DataFrame(bars, columns=['date', 'open', 'high', 'low', 'close'])\n",
    "btc_df.set_index('date', inplace=True)\n",
    "btc_df.index = pd.to_datetime(btc_df.index, unit='ms')\n",
    "print(btc_df.tail())"
   ]
  },
  {
   "cell_type": "code",
   "execution_count": 26,
   "metadata": {},
   "outputs": [],
   "source": [
    "interval = '1d'\n",
    "\n",
    "def get_tickers():\n",
    "    ticker = []\n",
    "    tickers = client.get_all_tickers()\n",
    "    for item in tickers:\n",
    "        ticker.append(item['symbol'])\n",
    "    return ticker\n",
    "\n",
    "def get_historical(ticker, interval):\n",
    "    timestamp = client._get_earliest_valid_timestamp(ticker, interval)\n",
    "    bars = client.get_historical_klines(ticker, interval, timestamp)\n",
    "    for line in bars:\n",
    "        del line[5:]\n",
    "    date = []\n",
    "    open_price = []\n",
    "    high_price = []\n",
    "    low_price = []\n",
    "    close_price = []\n",
    "    for item in bars:\n",
    "        date.append(item['date'])\n",
    "        open_price.append(item['open'])\n",
    "        high_price.append(item['high'])\n",
    "        low_price.append(item['low'])\n",
    "        close_price.append(item['close'])\n",
    "    \n",
    "    date = pd.Series(date)\n",
    "    date = pd.to_datetime(date, unit='ms')\n",
    "    open_price = pd.Series(open_price)\n",
    "    high_price = pd.Series(high_price)\n",
    "    low_price = pd.Series(low_price)\n",
    "    close_price = pd.Series(close_price)\n",
    "    series = [open_price.rename(\"Open\"), high_price.rename(\"High\"), low_price.rename(\"Low\"), close_price.rename(\"Close\"), date.rename(\"Dates\")]\n",
    "    df = pd.concat(series, axis=1)\n",
    "    df.set_index('date', inplace=True)\n",
    "    return df"
   ]
  },
  {
   "cell_type": "code",
   "execution_count": 27,
   "metadata": {},
   "outputs": [
    {
     "output_type": "error",
     "ename": "NameError",
     "evalue": "name 'df' is not defined",
     "traceback": [
      "\u001b[1;31m---------------------------------------------------------------------------\u001b[0m",
      "\u001b[1;31mNameError\u001b[0m                                 Traceback (most recent call last)",
      "\u001b[1;32m<ipython-input-27-b73b0b85debd>\u001b[0m in \u001b[0;36m<module>\u001b[1;34m\u001b[0m\n\u001b[1;32m----> 1\u001b[1;33m \u001b[0mget_historical\u001b[0m\u001b[1;33m(\u001b[0m\u001b[0mdf\u001b[0m\u001b[1;33m)\u001b[0m\u001b[1;33m\u001b[0m\u001b[1;33m\u001b[0m\u001b[0m\n\u001b[0m",
      "\u001b[1;31mNameError\u001b[0m: name 'df' is not defined"
     ]
    }
   ],
   "source": [
    "get_historical(df)"
   ]
  },
  {
   "cell_type": "code",
   "execution_count": null,
   "metadata": {},
   "outputs": [],
   "source": []
  }
 ]
}