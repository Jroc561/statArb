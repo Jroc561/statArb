{
 "cells": [
  {
   "cell_type": "code",
   "execution_count": 104,
   "metadata": {},
   "outputs": [],
   "source": [
    "import pandas as pd\n",
    "import numpy as np\n",
    "from os import getenv\n",
    "from binance.client import Client # pip install python-binance\n",
    "from binance.websockets import BinanceSocketManager\n",
    "from twisted.internet import reactor\n",
    "import math\n",
    "import os.path\n",
    "import time\n",
    "from datetime import timedelta, datetime\n",
    "from dateutil import parser\n",
    "from tqdm import tqdm_notebook #(Optional, used for progress-bars)\n",
    "import os\n",
    "import glob\n",
    "# Statistical Arbitrage - Pair Trading Strategy"
   ]
  },
  {
   "cell_type": "code",
   "execution_count": 105,
   "metadata": {},
   "outputs": [],
   "source": [
    "# client login to binance.us\n",
    "binance_client = Client(getenv('binance_api'), getenv('binance_secret'))\n",
    "binsizes = {\"1m\": 1, \"5m\": 5, \"1h\": 60, \"1d\": 1440}\n",
    "batch_size = 750"
   ]
  },
  {
   "cell_type": "code",
   "execution_count": 106,
   "metadata": {},
   "outputs": [],
   "source": [
    "def minutes_of_new_data(symbol, kline_size, data, source):\n",
    "    if len(data) > 0:  old = parser.parse(data[\"timestamp\"].iloc[-1])\n",
    "    elif source == \"binance\": old = datetime.strptime('1 Jan 2017', '%d %b %Y')\n",
    "    if source == \"binance\": new = pd.to_datetime(binance_client.get_klines(symbol=symbol, interval=kline_size)[-1][0], unit='ms')\n",
    "    return old, new\n",
    "\n",
    "def get_all_binance(symbol, kline_size, save = False):\n",
    "    filename = '%s-%s-data.csv' % (symbol, kline_size)\n",
    "    if os.path.isfile(filename): data_df= pd.read_csv(filename)\n",
    "    else: data_df = pd.DataFrame()\n",
    "    oldest_point, newest_point = minutes_of_new_data(symbol, kline_size, data_df, source = \"binance\")\n",
    "    delta_min = (newest_point - oldest_point).total_seconds()/60\n",
    "    available_data = math.ceil(delta_min/binsizes[kline_size])\n",
    "    if oldest_point == datetime.strptime('1 Jan 2017', '%d %b %Y'): print('Downloading all available %s data for %s. Be patient..!' % (kline_size, symbol))\n",
    "    else: print('Downloading %d minutes of new data available for %s, i.e. %d instances of %s data.' % (delta_min, symbol, available_data, kline_size))\n",
    "    klines = binance_client.get_historical_klines(symbol, kline_size, oldest_point.strftime(\"%d %b %Y %H:%M:%S\"), newest_point.strftime(\"%d %b %Y %H:%M:%S\"))\n",
    "    for line in klines:\n",
    "        del line[5:]\n",
    "    data = pd.DataFrame(klines, columns = ['timestamp', 'open', 'high', 'low', 'close'])\n",
    "    data['timestamp'] = pd.to_datetime(data['timestamp'], unit='ms')\n",
    "    data['symbol'] = symbol\n",
    "    if len(data_df) > 0:\n",
    "        temp_df = pd.DataFrame(data)\n",
    "        data_df = data_df.append(temp_df)\n",
    "    else: data_df = data\n",
    "    data_df.set_index('timestamp', inplace=True)\n",
    "    if save: data_df.to_csv(filename)\n",
    "    print('All caught up..!')\n",
    "    return data_df"
   ]
  },
  {
   "cell_type": "code",
   "execution_count": null,
   "metadata": {},
   "outputs": [],
   "source": [
    "# valid intervals - 1m, 3m, 5m, 15m, 30m, 1h, 2h, 4h, 6h, 8h, 12h, 1d, 3d, 1w, 1M\n",
    "# saves all files in /data directory\n",
    "binance_symbols = []\n",
    "tickers = binance_client.get_all_tickers()\n",
    "for item in tickers:\n",
    "        binance_symbols.append(item['symbol'])\n",
    "for symbol in binance_symbols:\n",
    "    get_all_binance(symbol, '1d', save = True)"
   ]
  },
  {
   "cell_type": "code",
   "execution_count": 109,
   "metadata": {},
   "outputs": [],
   "source": [
    "globbed_files = glob.glob(\"*.csv\") #creates a list of all csv files\n",
    "\n",
    "data = [] # pd.concat takes a list of dataframes as an agrument\n",
    "for csv in globbed_files:\n",
    "    frame = pd.read_csv(csv)\n",
    "    frame['symbol'] = os.path.basename(csv)\n",
    "    data.append(frame)\n",
    "\n",
    "combined_data = pd.concat(data, ignore_index=True) #dont want pandas to try an align row indexes\n",
    "#export to csv\n",
    "combined_data.to_csv('combined_data.csv', index=False, encoding='utf-8-sig')"
   ]
  },
  {
   "cell_type": "code",
   "execution_count": 113,
   "metadata": {},
   "outputs": [],
   "source": [
    "test = pd.read_csv('combined_data.csv')\n",
    "test['symbol'] = [x.split(\"-\")[0] for x in test['symbol']]\n",
    "test.set_index('timestamp', inplace=True)\n",
    "test = test[['symbol', 'open', 'high', 'low', 'close']]"
   ]
  },
  {
   "cell_type": "code",
   "execution_count": 114,
   "metadata": {},
   "outputs": [
    {
     "data": {
      "text/html": "<div>\n<style scoped>\n    .dataframe tbody tr th:only-of-type {\n        vertical-align: middle;\n    }\n\n    .dataframe tbody tr th {\n        vertical-align: top;\n    }\n\n    .dataframe thead th {\n        text-align: right;\n    }\n</style>\n<table border=\"1\" class=\"dataframe\">\n  <thead>\n    <tr style=\"text-align: right;\">\n      <th></th>\n      <th>symbol</th>\n      <th>open</th>\n      <th>high</th>\n      <th>low</th>\n      <th>close</th>\n    </tr>\n    <tr>\n      <th>timestamp</th>\n      <th></th>\n      <th></th>\n      <th></th>\n      <th></th>\n      <th></th>\n    </tr>\n  </thead>\n  <tbody>\n    <tr>\n      <th>2017-11-01</th>\n      <td>ARKBTC</td>\n      <td>0.004980</td>\n      <td>0.004980</td>\n      <td>0.000301</td>\n      <td>0.000319</td>\n    </tr>\n    <tr>\n      <th>2017-11-02</th>\n      <td>ARKBTC</td>\n      <td>0.000319</td>\n      <td>0.000363</td>\n      <td>0.000256</td>\n      <td>0.000300</td>\n    </tr>\n    <tr>\n      <th>2017-11-03</th>\n      <td>ARKBTC</td>\n      <td>0.000297</td>\n      <td>0.000369</td>\n      <td>0.000283</td>\n      <td>0.000346</td>\n    </tr>\n    <tr>\n      <th>2017-11-04</th>\n      <td>ARKBTC</td>\n      <td>0.000349</td>\n      <td>0.000367</td>\n      <td>0.000315</td>\n      <td>0.000315</td>\n    </tr>\n    <tr>\n      <th>2017-11-05</th>\n      <td>ARKBTC</td>\n      <td>0.000315</td>\n      <td>0.000340</td>\n      <td>0.000296</td>\n      <td>0.000321</td>\n    </tr>\n    <tr>\n      <th>...</th>\n      <td>...</td>\n      <td>...</td>\n      <td>...</td>\n      <td>...</td>\n      <td>...</td>\n    </tr>\n    <tr>\n      <th>2021-02-09</th>\n      <td>ARPABNB</td>\n      <td>0.000381</td>\n      <td>0.000393</td>\n      <td>0.000283</td>\n      <td>0.000307</td>\n    </tr>\n    <tr>\n      <th>2021-02-10</th>\n      <td>ARPABNB</td>\n      <td>0.000308</td>\n      <td>0.000308</td>\n      <td>0.000226</td>\n      <td>0.000270</td>\n    </tr>\n    <tr>\n      <th>2021-02-11</th>\n      <td>ARPABNB</td>\n      <td>0.000272</td>\n      <td>0.000330</td>\n      <td>0.000268</td>\n      <td>0.000311</td>\n    </tr>\n    <tr>\n      <th>2021-02-12</th>\n      <td>ARPABNB</td>\n      <td>0.000310</td>\n      <td>0.000349</td>\n      <td>0.000297</td>\n      <td>0.000319</td>\n    </tr>\n    <tr>\n      <th>2021-02-13</th>\n      <td>ARPABNB</td>\n      <td>0.000317</td>\n      <td>0.000352</td>\n      <td>0.000314</td>\n      <td>0.000334</td>\n    </tr>\n  </tbody>\n</table>\n<p>985180 rows × 5 columns</p>\n</div>",
      "text/plain": "             symbol      open      high       low     close\ntimestamp                                                  \n2017-11-01   ARKBTC  0.004980  0.004980  0.000301  0.000319\n2017-11-02   ARKBTC  0.000319  0.000363  0.000256  0.000300\n2017-11-03   ARKBTC  0.000297  0.000369  0.000283  0.000346\n2017-11-04   ARKBTC  0.000349  0.000367  0.000315  0.000315\n2017-11-05   ARKBTC  0.000315  0.000340  0.000296  0.000321\n...             ...       ...       ...       ...       ...\n2021-02-09  ARPABNB  0.000381  0.000393  0.000283  0.000307\n2021-02-10  ARPABNB  0.000308  0.000308  0.000226  0.000270\n2021-02-11  ARPABNB  0.000272  0.000330  0.000268  0.000311\n2021-02-12  ARPABNB  0.000310  0.000349  0.000297  0.000319\n2021-02-13  ARPABNB  0.000317  0.000352  0.000314  0.000334\n\n[985180 rows x 5 columns]"
     },
     "execution_count": 114,
     "metadata": {},
     "output_type": "execute_result"
    }
   ],
   "source": [
    "test"
   ]
  }
 ],
 "metadata": {
  "kernelspec": {
   "display_name": "Python 3.9.1 64-bit",
   "language": "python",
   "name": "python39164bit90a65254d6da4f0d8e4e5fb2b89137a4"
  },
  "language_info": {
   "codemirror_mode": {
    "name": "ipython",
    "version": 3
   },
   "file_extension": ".py",
   "mimetype": "text/x-python",
   "name": "python",
   "nbconvert_exporter": "python",
   "pygments_lexer": "ipython3",
   "version": "3.9.1"
  },
  "orig_nbformat": 2
 },
 "nbformat": 4,
 "nbformat_minor": 2
}